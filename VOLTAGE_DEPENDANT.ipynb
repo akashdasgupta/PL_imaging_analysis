{
 "cells": [
  {
   "cell_type": "markdown",
   "id": "1b4a0855",
   "metadata": {},
   "source": [
    "# Voltage dependant measurement analysis\n",
    "* This notebook is for analysis of v oltage dependant data taken from the PLQe imaging setup. \n",
    "* Assumes pre processing has already been done\n",
    "    \n",
    "### Some instructions: \n",
    "* Please run each cell in order, following the instructions\n",
    "    * Press cntrl+enter to run a cell\n",
    "* When prompted enter information into the feilds and press enter\n",
    "* If you go back and re run a cell, that's fine but you have to run every cell after that again, and in order\n",
    "\n",
    "This might break if all these files are not there! If you want to edit this code definately go ahead, a bunch of the functions live in seperate .py files, BUT please make a copy!!!"
   ]
  },
  {
   "cell_type": "code",
   "execution_count": null,
   "id": "absolute-incident",
   "metadata": {},
   "outputs": [],
   "source": [
    "from external_imports import *\n",
    "from image_process import *\n",
    "from general_data_process import *\n",
    "from voltage_dependant import *\n",
    "\n",
    "# For parallel processing\n",
    "from joblib import Parallel, delayed\n",
    "import multiprocessing\n",
    "num_cores = multiprocessing.cpu_count()\n",
    "\n",
    "\n",
    "import matplotlib\n",
    "matplotlib.rcParams['font.size'] = 12\n",
    "matplotlib.rcParams['font.family'] = \"Century Gothic\""
   ]
  },
  {
   "cell_type": "markdown",
   "id": "28a9ff26",
   "metadata": {},
   "source": [
    "## Core process\n",
    "* To do anything we need the PLQE maps, so let's make those first\n",
    "* Follow these steps:"
   ]
  },
  {
   "cell_type": "markdown",
   "id": "45140fc3",
   "metadata": {},
   "source": [
    "#### STEP 1: Determine what data we have\n",
    "* Provide a path to the data folder and folder you would like to save everything in\n",
    "    * Just copy and paste paths as raw strings (r\"path\\to\\data\") into approriate fields \n",
    "* Then, for each substrate, provide the bandgap in the input fields\n",
    "* If you have alreay saved the PLQE maps before and are just re-running this book just run this cell to remind the kernal where all the files live"
   ]
  },
  {
   "cell_type": "code",
   "execution_count": null,
   "id": "expensive-favor",
   "metadata": {},
   "outputs": [],
   "source": [
    "datapath = r\"\"\n",
    "savepath = r\"\"\n",
    "if not os.path.isdir(savepath):\n",
    "    os.makedirs(savepath)\n",
    "\n",
    "path_db = path_process(datapath)\n",
    "\n",
    "bandgaps = {}\n",
    "for key in path_db.keys():\n",
    "    if key.lower() != 'white':\n",
    "        string = \"What's the bandgap of \"+key+\" in eV?: \"\n",
    "        bandgap = float(input(string))\n",
    "        bandgaps[key] = bandgap"
   ]
  },
  {
   "cell_type": "markdown",
   "id": "d504380a",
   "metadata": {},
   "source": [
    "#### STEP 2: Calculate PLQEs\n",
    "* Now just run the following to save the PLQE maps. "
   ]
  },
  {
   "cell_type": "code",
   "execution_count": null,
   "id": "d170dff2",
   "metadata": {},
   "outputs": [],
   "source": [
    "whiteparamsfile = f\"{datapath}/white_params.csv\"  # defines location of white ref parameter file\n",
    "vsweep_folders = ['vsweep', 'vsweep_f', 'vsweep_b']  # For getting a flux at one sun\n",
    "\n",
    "for key in path_db.keys():\n",
    "    bandgap = bandgaps[key]\n",
    "    for pix in path_db[key]: \n",
    "        whitefilename = f\"{datapath}/{key}/{pix}/white.npy\"\n",
    "        \n",
    "        # extracting flux at one sun (defined as flux of vsweep)\n",
    "        flux1sun = 0\n",
    "        for vsweep_folder in vsweep_folders:\n",
    "            if os.path.isdir(f\"{datapath}/{key}/{pix}/{vsweep_folder}\"):\n",
    "                flux1sun = float(find_npy(f\"{datapath}/{key}/{pix}/{vsweep_folder}\")[0].split('_')[2])\n",
    "                break\n",
    "        \n",
    "        # save PLQEs for oc and sc\n",
    "        for vsweep_folder in vsweep_folders:\n",
    "            datapath_i = f\"{datapath}/{key}/{pix}/{vsweep_folder}\"\n",
    "            if os.path.isdir(datapath_i):\n",
    "                savepath_i = f\"{savepath}/{key}/{pix}\"\n",
    "                if os.path.isdir(datapath_i):\n",
    "                    save_PLQE(datapath_i, savepath_i, whitefilename, whiteparamsfile, bandgap, \n",
    "                              flux1sun=flux1sun, savename=vsweep_folder)"
   ]
  },
  {
   "cell_type": "markdown",
   "id": "cde24044",
   "metadata": {},
   "source": [
    "* Plots (png files for easy viewing):"
   ]
  },
  {
   "cell_type": "code",
   "execution_count": null,
   "id": "4c60be39",
   "metadata": {},
   "outputs": [],
   "source": [
    "# Run this to save the images\n",
    "vsweep_folders = ['vsweep', 'vsweep_f', 'vsweep_b']  # For getting a flux at one sun\n",
    "\n",
    "for key in path_db.keys():\n",
    "    for pix in path_db[key]:\n",
    "        for vsweep_folder in vsweep_folders:\n",
    "            path_i = f\"{savepath}/{key}/{pix}/PLQE_{vsweep_folder}\"\n",
    "            if os.path.isdir(path_i):\n",
    "                if not os.path.isdir(f\"{path_i}/pngs\"):\n",
    "                    os.makedirs(f\"{path_i}/pngs\")\n",
    "\n",
    "                filenames = find_npy(path_i)\n",
    "\n",
    "                def process_one_file(filename):\n",
    "                    savefile_name = '_'.join(filename.split('_')[:-1])+'.png'\n",
    "                    bias = float(filename.split('_')[0])\n",
    "                    \n",
    "                    fig, ax = plt.subplots()\n",
    "                    imarr = np.load(f\"{path_i}/{filename}\")\n",
    "                    im = ax.imshow(imarr*100, cmap=\"inferno\", vmin=np.mean(imarr*100)-3*np.std(imarr*100),\n",
    "                                                              vmax=np.mean(imarr*100)+3*np.std(imarr*100))\n",
    "                    \n",
    "                    ax.set_title(f'V = {bias}')\n",
    "                    cbar = plt.colorbar(im,pad=0.01,aspect=20)\n",
    "                    cbar.set_label('PLQE (%)', rotation=270,labelpad=25)\n",
    "\n",
    "                    scalebar_size = 0.1 # cm\n",
    "                    scalebar_offset = 10 # pix\n",
    "\n",
    "                    scalebar_width_pix = 0.1*pixels_per_cm\n",
    "                    scalebar_height_pix = scalebar_width_pix/10\n",
    "                    scalbar_y_position = imarr.shape[0]-scalebar_offset-scalebar_height_pix\n",
    "\n",
    "                    text_x = scalebar_offset + scalebar_width_pix/2\n",
    "                    text_y = scalbar_y_position\n",
    "\n",
    "                    scalebar = patches.Rectangle((scalebar_offset,scalbar_y_position),scalebar_width_pix,scalebar_height_pix,linewidth=1,edgecolor='k',facecolor='white')\n",
    "                    ax.add_patch(scalebar)\n",
    "                    txt = plt.text(text_x,text_y,\"1 mm\", color = \"white\", ha='center', va='bottom', fontweight='bold')\n",
    "                    txt.set_path_effects([PathEffects.withStroke(linewidth=1.2, foreground='k')])\n",
    "\n",
    "                    plt.axis('off')\n",
    "\n",
    "                    plt.savefig(f\"{path_i}/pngs/{savefile_name}\", dpi=300)\n",
    "                    plt.close('all')\n",
    "                Parallel(n_jobs=num_cores)(delayed(process_one_file)(filename) for filename in filenames)"
   ]
  },
  {
   "cell_type": "markdown",
   "id": "d03fbacd",
   "metadata": {},
   "source": [
    "## Different analysis modules:\n",
    "* The following will be different cells that do different bits of analysis, just run the ones you want"
   ]
  },
  {
   "cell_type": "markdown",
   "id": "73a83fb6",
   "metadata": {},
   "source": [
    "### QFLS at different bias\n",
    "* Plots maps of QFLS at different bias\n",
    "* Saves in new folder in pix folder\n",
    "* Draws from PLQE_vsweep[f/b] folder, so that needs to be present"
   ]
  },
  {
   "cell_type": "code",
   "execution_count": null,
   "id": "b56c8276",
   "metadata": {},
   "outputs": [],
   "source": [
    "for key in path_db.keys():\n",
    "    for pix in path_db[key]:\n",
    "        path_i = f\"{savepath}/{key}/{pix}\"\n",
    "        voc_rad = vocradf(bandgaps[key])\n",
    "        vsweep_array_QFLS(path_i, voc_rad)"
   ]
  },
  {
   "cell_type": "markdown",
   "id": "38485ca5",
   "metadata": {},
   "source": [
    "* Plots:"
   ]
  },
  {
   "cell_type": "code",
   "execution_count": null,
   "id": "90eaf32f",
   "metadata": {},
   "outputs": [],
   "source": [
    "vsweep_folders = ['vsweep', 'vsweep_f', 'vsweep_b']  # For getting a flux at one sun\n",
    "\n",
    "for key in path_db.keys():\n",
    "    for pix in path_db[key]:\n",
    "        for vsweep_folder in vsweep_folders:\n",
    "            path_i = f\"{savepath}/{key}/{pix}/QFLS_{vsweep_folder}\"\n",
    "            if os.path.isdir(path_i):\n",
    "                if not os.path.isdir(f\"{path_i}/pngs\"):\n",
    "                    os.makedirs(f\"{path_i}/pngs\")\n",
    "\n",
    "                filenames = find_npy(path_i)\n",
    "\n",
    "                def process_one_file(filename):\n",
    "                    savefile_name = '_'.join(filename.split('_')[:-1])+'.png'\n",
    "                    bias = float(filename.split('_')[0])\n",
    "                    \n",
    "                    fig, ax = plt.subplots()\n",
    "                    imarr = np.load(f\"{path_i}/{filename}\")\n",
    "                    im = ax.imshow(imarr, cmap=\"inferno\", vmin=np.mean(imarr)-3*np.std(imarr),\n",
    "                                                              vmax=np.mean(imarr)+3*np.std(imarr))\n",
    "                    \n",
    "                    ax.set_title(f'V = {bias}')\n",
    "                    cbar = plt.colorbar(im,pad=0.01,aspect=20)\n",
    "                    cbar.set_label('QFLS (eV)', rotation=270,labelpad=25)\n",
    "\n",
    "                    scalebar_size = 0.1 # cm\n",
    "                    scalebar_offset = 10 # pix\n",
    "\n",
    "                    scalebar_width_pix = 0.1*pixels_per_cm\n",
    "                    scalebar_height_pix = scalebar_width_pix/10\n",
    "                    scalbar_y_position = imarr.shape[0]-scalebar_offset-scalebar_height_pix\n",
    "\n",
    "                    text_x = scalebar_offset + scalebar_width_pix/2\n",
    "                    text_y = scalbar_y_position\n",
    "\n",
    "                    scalebar = patches.Rectangle((scalebar_offset,scalbar_y_position),scalebar_width_pix,scalebar_height_pix,linewidth=1,edgecolor='k',facecolor='white')\n",
    "                    ax.add_patch(scalebar)\n",
    "                    txt = plt.text(text_x,text_y,\"1 mm\", color = \"white\", ha='center', va='bottom', fontweight='bold')\n",
    "                    txt.set_path_effects([PathEffects.withStroke(linewidth=1.2, foreground='k')])\n",
    "\n",
    "                    plt.axis('off')\n",
    "\n",
    "                    plt.savefig(f\"{path_i}/pngs/{savefile_name}\", dpi=300)\n",
    "                    plt.close('all')\n",
    "                Parallel(n_jobs=num_cores)(delayed(process_one_file)(filename) for filename in filenames)"
   ]
  },
  {
   "cell_type": "markdown",
   "id": "f4e69f41",
   "metadata": {},
   "source": [
    "### Collection efficienct\n",
    "* Plots colection efficiency :\n",
    "($\\frac{PL_{oc} - PL_{sc}}{PL_{oc}}$)\n",
    "* Draws from PLQE_vsweep[f/b] folder, so that needs to be present"
   ]
  },
  {
   "cell_type": "code",
   "execution_count": null,
   "id": "de5a595d",
   "metadata": {},
   "outputs": [],
   "source": [
    "for key in path_db.keys():\n",
    "    for pix in path_db[key]:\n",
    "        path_i = f\"{savepath}/{key}/{pix}\"\n",
    "        rawpath_i = f\"{datapath}/{key}/{pix}\"\n",
    "        vsweep_col_eff(path_i, rawpath_i)                "
   ]
  },
  {
   "cell_type": "markdown",
   "id": "4474e35a",
   "metadata": {},
   "source": [
    "* Plots:"
   ]
  },
  {
   "cell_type": "code",
   "execution_count": null,
   "id": "08900a8a",
   "metadata": {},
   "outputs": [],
   "source": [
    "vsweep_folders = ['vsweep', 'vsweep_f', 'vsweep_b']  # For getting a flux at one sun\n",
    "\n",
    "for key in path_db.keys():\n",
    "    for pix in path_db[key]:\n",
    "        for vsweep_folder in vsweep_folders:\n",
    "            path_i = f\"{savepath}/{key}/{pix}/coleff_{vsweep_folder}\"\n",
    "            if os.path.isdir(path_i):\n",
    "                if not os.path.isdir(f\"{path_i}/pngs\"):\n",
    "                    os.makedirs(f\"{path_i}/pngs\")\n",
    "\n",
    "                filenames = find_npy(path_i)\n",
    "\n",
    "                def process_one_file(filename):\n",
    "                    savefile_name = '_'.join(filename.split('_')[:-1])+'.png'\n",
    "                    bias = float(filename.split('_')[0])\n",
    "                    \n",
    "                    fig, ax = plt.subplots()\n",
    "                    imarr = np.load(f\"{path_i}/{filename}\")\n",
    "                    im = ax.imshow(imarr*100, cmap=\"inferno\", vmin=np.mean(imarr*100)-3*np.std(imarr*100),\n",
    "                                                              vmax=np.mean(imarr*100)+3*np.std(imarr*100))\n",
    "                    \n",
    "                    ax.set_title(f'V = {bias}')\n",
    "                    cbar = plt.colorbar(im,pad=0.01,aspect=20)\n",
    "                    cbar.set_label('collection efficiency (eV)', rotation=270,labelpad=25)\n",
    "\n",
    "                    scalebar_size = 0.1 # cm\n",
    "                    scalebar_offset = 10 # pix\n",
    "\n",
    "                    scalebar_width_pix = 0.1*pixels_per_cm\n",
    "                    scalebar_height_pix = scalebar_width_pix/10\n",
    "                    scalbar_y_position = imarr.shape[0]-scalebar_offset-scalebar_height_pix\n",
    "\n",
    "                    text_x = scalebar_offset + scalebar_width_pix/2\n",
    "                    text_y = scalbar_y_position\n",
    "\n",
    "                    scalebar = patches.Rectangle((scalebar_offset,scalbar_y_position),scalebar_width_pix,scalebar_height_pix,linewidth=1,edgecolor='k',facecolor='white')\n",
    "                    ax.add_patch(scalebar)\n",
    "                    txt = plt.text(text_x,text_y,\"1 mm\", color = \"white\", ha='center', va='bottom', fontweight='bold')\n",
    "                    txt.set_path_effects([PathEffects.withStroke(linewidth=1.2, foreground='k')])\n",
    "\n",
    "                    plt.axis('off')\n",
    "\n",
    "                    plt.savefig(f\"{path_i}/pngs/{savefile_name}\", dpi=300)\n",
    "                    plt.close('all')\n",
    "                Parallel(n_jobs=num_cores)(delayed(process_one_file)(filename) for filename in filenames)"
   ]
  }
 ],
 "metadata": {
  "kernelspec": {
   "display_name": "Python 3",
   "language": "python",
   "name": "python3"
  },
  "language_info": {
   "codemirror_mode": {
    "name": "ipython",
    "version": 3
   },
   "file_extension": ".py",
   "mimetype": "text/x-python",
   "name": "python",
   "nbconvert_exporter": "python",
   "pygments_lexer": "ipython3",
   "version": "3.8.10"
  }
 },
 "nbformat": 4,
 "nbformat_minor": 5
}
