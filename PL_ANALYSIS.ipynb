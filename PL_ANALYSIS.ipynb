{
 "cells": [
  {
   "cell_type": "markdown",
   "id": "7bc000be",
   "metadata": {},
   "source": [
    "# Intensity dependant measurement analysis\n",
    "* This notebook is for analysis of intensity dependant data taken from the PLQe imaging setup. \n",
    "* Assumes pre processing has already been done\n",
    "    \n",
    "### Some instructions: \n",
    "* Please run each cell in order, following the instructions\n",
    "    * Press cntrl+enter to run a cell\n",
    "* When prompted enter information into the feilds and press enter\n",
    "* If you go back and re run a cell, that's fine but you have to run every cell after that again, and in order\n",
    "\n",
    "This might break if all these files are not there! If you want to edit this code definately go ahead, a bunch of the functions live in seperate .py files, BUT please make a copy!!!"
   ]
  },
  {
   "cell_type": "code",
   "execution_count": null,
   "id": "19f763a9",
   "metadata": {},
   "outputs": [],
   "source": [
    "# Some imports:\n",
    "from external_imports import *\n",
    "from image_process import *\n",
    "from general_data_process import *\n",
    "from intensity_dependant import *\n",
    "\n",
    "# Plot parameters\n",
    "import matplotlib\n",
    "matplotlib.rcParams['font.size'] = 12\n",
    "matplotlib.rcParams['font.family'] = \"Century Gothic\""
   ]
  },
  {
   "cell_type": "markdown",
   "id": "a7d84275",
   "metadata": {},
   "source": [
    "## Core process\n",
    "* To do anything we need the PLQE maps, so let's make those first\n",
    "* Follow these steps:"
   ]
  },
  {
   "cell_type": "markdown",
   "id": "0e800fde",
   "metadata": {},
   "source": [
    "#### STEP 1: Determine what data we have\n",
    "* Provide a path to the data folder and folder you would like to save everything in\n",
    "    * Just copy and paste paths as raw strings (r\"path\\to\\data\") into approriate fields \n",
    "* Then, for each substrate, provide the bandgap in the input fields\n",
    "* If you have alreay saved the PLQE maps before and are just re-running this book just run this cell to remind the kernal where all the files live"
   ]
  },
  {
   "cell_type": "code",
   "execution_count": null,
   "id": "05c7ea42",
   "metadata": {},
   "outputs": [],
   "source": [
    "datapath = r\"E:\\Data\\EL_setup\\EL_cam_paper\\final_set\\cells\"\n",
    "savepath = r\"E:\\Data\\EL_setup\\EL_cam_paper\\final_set\\Plots\\new_processed_data\"\n",
    "if not os.path.isdir(savepath):\n",
    "    os.makedirs(savepath)\n",
    "\n",
    "path_db = path_process(datapath)\n",
    "\n",
    "bandgaps = {}\n",
    "for key in path_db.keys():\n",
    "    if key.lower() != 'white':\n",
    "        string = \"What's the bandgap of \"+key+\" in eV?: \"\n",
    "        bandgap = float(input(string))\n",
    "        bandgaps[key] = bandgap"
   ]
  },
  {
   "cell_type": "markdown",
   "id": "5abd20e9",
   "metadata": {},
   "source": [
    "#### STEP 2: Calculate PLQEs\n",
    "* Now just run the following to save the PLQE maps. "
   ]
  },
  {
   "cell_type": "code",
   "execution_count": null,
   "id": "54aa5cb3",
   "metadata": {},
   "outputs": [],
   "source": [
    "whiteparamsfile = f\"{datapath}\\\\white_params.csv\"  # defines location of white ref parameter file\n",
    "possible_vsweep_folders = ['vsweep', 'vsweep_f', 'vsweep_b']  # For getting a flux at one sun\n",
    "int_dep_folders = ['oc', 'sc'] # Folders of interest\n",
    "\n",
    "for key in path_db.keys():\n",
    "    bandgap = bandgaps[key]\n",
    "    for pix in path_db[key]: \n",
    "        whitefilename = f\"{datapath}\\\\{key}\\\\{pix}\\\\white.npy\"\n",
    "        \n",
    "        # extracting flux at one sun (if avaliable)\n",
    "        flux1sun = 0\n",
    "        for vsweep_folder in possible_vsweep_folders:\n",
    "            if os.path.isdir(f\"{datapath}\\\\{key}\\\\{pix}\\\\{vsweep_folder}\"):\n",
    "                flux1sun = float(find_npy(f\"{datapath}\\\\{key}\\\\{pix}\\\\{vsweep_folder}\")[0].split('_')[2])\n",
    "                break\n",
    "        # save PLQEs for oc and sc\n",
    "        for int_dep_folder in int_dep_folders:\n",
    "            datapath_i = f\"{datapath}\\\\{key}\\\\{pix}\\\\{int_dep_folder}\"\n",
    "            savepath_i = f\"{savepath}\\\\{key}\\\\{pix}\"\n",
    "            if os.path.isdir(datapath_i):\n",
    "                save_PLQE(datapath_i, savepath_i, whitefilename, whiteparamsfile, bandgap, \n",
    "                          flux1sun=flux1sun, savename=int_dep_folder)"
   ]
  },
  {
   "cell_type": "markdown",
   "id": "babbfabc",
   "metadata": {},
   "source": [
    "* Plots (png files for easy viewing):"
   ]
  },
  {
   "cell_type": "code",
   "execution_count": null,
   "id": "b5e9207e",
   "metadata": {},
   "outputs": [],
   "source": [
    "# Run this to save the images\n",
    "for key in path_db.keys():\n",
    "    for pix in path_db[key]:\n",
    "        for int_dep_folder in int_dep_folders:\n",
    "            path_i = f\"{savepath}\\\\{key}\\\\{pix}\\\\PLQE_{int_dep_folder}\"\n",
    "            if os.path.isdir(path_i):\n",
    "                if not os.path.isdir(f\"{path_i}\\\\pngs\"):\n",
    "                    os.makedirs(f\"{path_i}\\\\pngs\")\n",
    "\n",
    "                filenames = find_npy(path_i)\n",
    "\n",
    "                def process_one_file(filename):\n",
    "                    savefile_name = '_'.join(filename.split('_')[:-1])+'.png'\n",
    "                    num_sun = float(filename.split('_')[1])\n",
    "                    \n",
    "                    fig, ax = plt.subplots()\n",
    "                    imarr = np.load(f\"{path_i}\\\\{filename}\")\n",
    "                    im = ax.imshow(imarr*100, cmap=\"inferno\", vmin=np.mean(imarr*100)-3*np.std(imarr*100),\n",
    "                                                              vmax=np.mean(imarr*100)+3*np.std(imarr*100))\n",
    "                    \n",
    "                    ax.set_title(f'num_sun = {num_sun}')\n",
    "                    cbar = plt.colorbar(im,pad=0.01,aspect=20)\n",
    "                    cbar.set_label('PLQE (%)', rotation=270,labelpad=25)\n",
    "\n",
    "                    scalebar_size = 0.1 # cm\n",
    "                    scalebar_offset = 10 # pix\n",
    "\n",
    "                    scalebar_width_pix = 0.1*pixels_per_cm\n",
    "                    scalebar_height_pix = scalebar_width_pix/10\n",
    "                    scalbar_y_position = imarr.shape[0]-scalebar_offset-scalebar_height_pix\n",
    "\n",
    "                    text_x = scalebar_offset + scalebar_width_pix/2\n",
    "                    text_y = scalbar_y_position\n",
    "\n",
    "                    scalebar = patches.Rectangle((scalebar_offset,scalbar_y_position),scalebar_width_pix,scalebar_height_pix,linewidth=1,edgecolor='k',facecolor='white')\n",
    "                    ax.add_patch(scalebar)\n",
    "                    txt = plt.text(text_x,text_y,\"1 mm\", color = \"white\", ha='center', va='bottom', fontweight='bold')\n",
    "                    txt.set_path_effects([PathEffects.withStroke(linewidth=1.2, foreground='k')])\n",
    "\n",
    "                    plt.axis('off')\n",
    "\n",
    "                    plt.savefig(f\"{path_i}\\\\pngs\\\\{savefile_name}\", dpi=300)\n",
    "                    plt.close('all')\n",
    "                Parallel(n_jobs=num_cores)(delayed(process_one_file)(filename) for filename in filenames)"
   ]
  },
  {
   "cell_type": "markdown",
   "id": "dc5b1400",
   "metadata": {},
   "source": [
    "## Different analysis modules:\n",
    "* The following will be different cells that do different bits of analysis, just run the ones you want"
   ]
  },
  {
   "cell_type": "markdown",
   "id": "13badeeb",
   "metadata": {},
   "source": [
    "### Reconstructed JV (averaged) and sun's Voc\n",
    "* Calculate Psudo J/V and Sun's Voc JV averaging over whole cropped image\n",
    "* Saves data in pix folder as a csv, as well as a png image \n",
    "* Uncomment plt.show() to see the plots here"
   ]
  },
  {
   "cell_type": "code",
   "execution_count": null,
   "id": "219ce045",
   "metadata": {
    "scrolled": false
   },
   "outputs": [],
   "source": [
    "for key in path_db.keys():\n",
    "    for pix in path_db[key]:     \n",
    "        path_i = f\"{savepath}\\\\{key}\\\\{pix}\"\n",
    "        bandgap = bandgaps[key]\n",
    "        voc_rad0 = vocradf(bandgap)\n",
    "\n",
    "        QFLSs, Js, bias, fluxes, num_suns = average_recon_jv(path_i, voc_rad0)\n",
    "        \n",
    "        suns_voc_V = []\n",
    "        with open(f\"{datapath}\\\\{key}\\\\{pix}\\\\oc\\\\source_meter.csv\",'r') as file:\n",
    "            reader = csv.reader(file)\n",
    "            for row in reader:\n",
    "                suns_voc_V.append(float(row[0]))\n",
    "                \n",
    "        suns_voc_V = np.array(sorted([abs(i) for i in suns_voc_V]))\n",
    "        with open(f\"{path_i}\\\\reconstructed_JV_ave.csv\",'w',newline='') as file:\n",
    "            writer = csv.writer(file)\n",
    "            writer.writerow([\"QFLS(ev)\", \"measured voltage (V)\", \"reconstructed current(J/Jsc)\"])\n",
    "            writer.writerows(zip(QFLSs, suns_voc_V, Js))"
   ]
  },
  {
   "cell_type": "markdown",
   "id": "7a386cef",
   "metadata": {},
   "source": [
    "Plots:"
   ]
  },
  {
   "cell_type": "code",
   "execution_count": null,
   "id": "798ed55c",
   "metadata": {
    "scrolled": true
   },
   "outputs": [],
   "source": [
    "for key in path_db.keys():\n",
    "    for pix in path_db[key]: \n",
    "        path_i = f\"{savepath}\\\\{key}\\\\{pix}\"\n",
    "        QFLSs, suns_voc_V, Js = ([],[],[])\n",
    "        with open(f\"{path_i}\\\\reconstructed_JV_ave.csv\",'r') as file:\n",
    "            reader = csv.reader(file)\n",
    "            next(reader)\n",
    "            for row in reader:\n",
    "                QFLSs.append(float(row[0]))\n",
    "                suns_voc_V.append(float(row[1]))\n",
    "                Js.append(float(row[2]))\n",
    "        \n",
    "        QFLSs = np.array(QFLSs)\n",
    "        suns_voc_V = np.array(suns_voc_V)\n",
    "        Js = np.array(Js)\n",
    "        \n",
    "        \n",
    "        plt.scatter(-QFLSs, Js, color='k', label = 'Reconstructed')\n",
    "        plt.plot(-suns_voc_V, Js, color='r', label = \"Sun's Voc measurement\")\n",
    "        \n",
    "        plt.xlim((-1.3,-0.3))      \n",
    "        plt.ylim((-1,1))\n",
    "        plt.axhline(0,color='k')\n",
    "        \n",
    "        plt.legend(frameon=False)\n",
    "        plt.xlabel(\"Voltage (V)\")\n",
    "        plt.ylabel(\"J/J$_{sc}$\")\n",
    "        plt.title(f\"{key}, Pixel {pix}\")\n",
    "        \n",
    "        plt.savefig(f\"{path_i}\\\\reconstructed_JV_ave.png\", dpi=320)\n",
    "#         plt.show()\n",
    "        plt.close('all')\n"
   ]
  },
  {
   "cell_type": "markdown",
   "id": "885898b1",
   "metadata": {},
   "source": [
    "### Intensity dependant QFLS maps\n",
    "* Creates maps of QFLS for each optical bias\n",
    "* Saves in new folder in pix folder\n",
    "* Draws from PLQE_oc folder, so that needs to be present"
   ]
  },
  {
   "cell_type": "code",
   "execution_count": null,
   "id": "f033d5a3",
   "metadata": {
    "scrolled": false
   },
   "outputs": [],
   "source": [
    "for key in path_db.keys():\n",
    "    for pix in path_db[key]:  \n",
    "        for bias in ['oc', 'sc']:\n",
    "            path_i = f\"{savepath}\\\\{key}\\\\{pix}\"\n",
    "            bandgap = bandgaps[key]\n",
    "            voc_rad0 = vocradf(bandgap)\n",
    "\n",
    "            intsweep_QFLS(path_i, voc_rad0, bias)"
   ]
  },
  {
   "cell_type": "markdown",
   "id": "0b3d73dc",
   "metadata": {},
   "source": [
    "Plots (saved in 'png' folder inside 'QFLS_int_oc):"
   ]
  },
  {
   "cell_type": "code",
   "execution_count": null,
   "id": "fc809c90",
   "metadata": {
    "scrolled": false
   },
   "outputs": [],
   "source": [
    "# Run this to save the images\n",
    "for key in path_db.keys():\n",
    "    for pix in path_db[key]:\n",
    "        path_i = f\"{savepath}\\\\{key}\\\\{pix}\\\\QFLS_int_oc\"\n",
    "        if not os.path.isdir(f\"{path_i}\\\\pngs\"):\n",
    "            os.makedirs(f\"{path_i}\\\\pngs\")\n",
    "        \n",
    "        filenames = find_npy(path_i)\n",
    "\n",
    "        def process_one_file(filename):\n",
    "            savefile_name = '_'.join(filename.split('_')[:-1])+'.png'\n",
    "            fig, ax = plt.subplots()\n",
    "            \n",
    "            num_suns = float(filename.split('_')[1])\n",
    "            jbyjsc = 1-num_suns\n",
    "\n",
    "            imarr = np.load(f\"{path_i}\\\\{filename}\")\n",
    "            im = ax.imshow(imarr, cmap=\"inferno\")#, vmin=1)\n",
    "            ax.set_title('J/J$_{sc}$ = '+str(jbyjsc))\n",
    "            cbar = plt.colorbar(im,pad=0.01,aspect=20)\n",
    "            cbar.set_label('V$_{oc}$ (V)', rotation=270,labelpad=25)\n",
    "\n",
    "            scalebar_size = 0.1 # cm\n",
    "            scalebar_offset = 10 # pix\n",
    "\n",
    "            scalebar_width_pix = 0.1*pixels_per_cm\n",
    "            scalebar_height_pix = scalebar_width_pix/10\n",
    "            scalbar_y_position = imarr.shape[0]-scalebar_offset-scalebar_height_pix\n",
    "\n",
    "            text_x = scalebar_offset + scalebar_width_pix/2\n",
    "            text_y = scalbar_y_position\n",
    "\n",
    "            scalebar = patches.Rectangle((scalebar_offset,scalbar_y_position),scalebar_width_pix,scalebar_height_pix,linewidth=1,edgecolor='k',facecolor='white')\n",
    "            ax.add_patch(scalebar)\n",
    "            txt = plt.text(text_x,text_y,\"1 mm\", color = \"white\", ha='center', va='bottom', fontweight='bold')\n",
    "            txt.set_path_effects([PathEffects.withStroke(linewidth=1.2, foreground='k')])\n",
    "\n",
    "            plt.axis('off')\n",
    "\n",
    "            plt.savefig(f\"{path_i}\\\\pngs\\\\{savefile_name}\", dpi=300)\n",
    "            plt.close('all')\n",
    "        Parallel(n_jobs=num_cores)(delayed(process_one_file)(filename) for filename in filenames)"
   ]
  },
  {
   "cell_type": "markdown",
   "id": "811e766b",
   "metadata": {},
   "source": [
    "### Ideality factor map\n",
    "* Calculates map of ideality factor \n",
    "* Draws from QFLS_int_oc, so relies on that being present\n",
    "* .npy and png saved in pix folder"
   ]
  },
  {
   "cell_type": "code",
   "execution_count": null,
   "id": "94411267",
   "metadata": {},
   "outputs": [],
   "source": [
    "for key in path_db.keys():\n",
    "    for pix in path_db[key]:\n",
    "        path_i = f\"{savepath}\\\\{key}\\\\{pix}\"\n",
    "        nid = get_idelity_map(path_i)\n",
    "        np.save(f\"{path_i}\\\\ideality\", nid)\n",
    "        \n",
    "        fig, ax = plt.subplots()\n",
    "        im = ax.imshow(nid, cmap=\"inferno\", vmin=1, vmax=2)\n",
    "\n",
    "        cbar = plt.colorbar(im,pad=0.01,aspect=20)\n",
    "        cbar.set_label('n$_{id}$', rotation=270,labelpad=25)\n",
    "\n",
    "        scalebar_size = 0.1 # cm\n",
    "        scalebar_offset = 10 # pix\n",
    "\n",
    "        scalebar_width_pix = 0.1*pixels_per_cm\n",
    "        scalebar_height_pix = scalebar_width_pix/10\n",
    "        scalbar_y_position = nid.shape[0]-scalebar_offset-scalebar_height_pix\n",
    "\n",
    "        text_x = scalebar_offset + scalebar_width_pix/2\n",
    "        text_y = scalbar_y_position\n",
    "\n",
    "        scalebar = patches.Rectangle((scalebar_offset,scalbar_y_position),scalebar_width_pix,scalebar_height_pix,linewidth=1,edgecolor='k',facecolor='white')\n",
    "        ax.add_patch(scalebar)\n",
    "        txt = plt.text(text_x,text_y,\"1 mm\", color = \"white\", ha='center', va='bottom', fontweight='bold')\n",
    "        txt.set_path_effects([PathEffects.withStroke(linewidth=1.2, foreground='k')])\n",
    "\n",
    "        plt.axis('off')\n",
    "\n",
    "        plt.savefig(f\"{path_i}\\\\ideality.png\", dpi=300)\n",
    "        plt.close('all')\n"
   ]
  }
 ],
 "metadata": {
  "interpreter": {
   "hash": "b3ba2566441a7c06988d0923437866b63cedc61552a5af99d1f4fb67d367b25f"
  },
  "kernelspec": {
   "display_name": "Python 3",
   "language": "python",
   "name": "python3"
  },
  "language_info": {
   "codemirror_mode": {
    "name": "ipython",
    "version": 3
   },
   "file_extension": ".py",
   "mimetype": "text/x-python",
   "name": "python",
   "nbconvert_exporter": "python",
   "pygments_lexer": "ipython3",
   "version": "3.8.10"
  }
 },
 "nbformat": 4,
 "nbformat_minor": 5
}
