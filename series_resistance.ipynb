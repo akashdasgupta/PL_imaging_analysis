{
 "cells": [
  {
   "cell_type": "markdown",
   "id": "12df64e7",
   "metadata": {},
   "source": [
    "# This is unfinished and unverified!! Don't use plz"
   ]
  },
  {
   "cell_type": "code",
   "execution_count": null,
   "id": "3980f063",
   "metadata": {},
   "outputs": [],
   "source": [
    "# Some imports:\n",
    "from external_imports import *\n",
    "from image_process import *\n",
    "from general_data_process import *\n",
    "from series_resistance import *\n",
    "from cmcrameri import cm\n",
    "\n",
    "\n",
    "# For parallel processing\n",
    "import multiprocessing\n",
    "num_cores = multiprocessing.cpu_count()\n",
    "\n",
    "# Plot parameters\n",
    "import matplotlib\n",
    "matplotlib.rcParams['figure.dpi'] = 100\n",
    "matplotlib.rcParams['font.size'] = 12\n",
    "matplotlib.rcParams['font.family'] = \"Century Gothic\"\n",
    "from scipy.io import savemat"
   ]
  },
  {
   "cell_type": "code",
   "execution_count": 30,
   "id": "a3e47d14",
   "metadata": {},
   "outputs": [],
   "source": [
    "datapath = r\"\"\n",
    "savepath =r\"\"\n",
    "\n",
    "path_db = path_process(datapath)"
   ]
  },
  {
   "cell_type": "code",
   "execution_count": null,
   "id": "f3bb4c8d",
   "metadata": {},
   "outputs": [],
   "source": [
    "for key in path_db.keys():\n",
    "    for pix in path_db[key]:\n",
    "        sr = series_resistance(f\"{datapath}\\\\{key}\\\\{pix}\", f\"{savepath}\\\\{key}\\\\{pix}\",1.6)\n",
    "        np.save(f\"{savepath}\\\\{key}\\\\{pix}\\\\series_resistance\", sr)"
   ]
  }
 ],
 "metadata": {
  "kernelspec": {
   "display_name": "Python 3",
   "language": "python",
   "name": "python3"
  },
  "language_info": {
   "codemirror_mode": {
    "name": "ipython",
    "version": 3
   },
   "file_extension": ".py",
   "mimetype": "text/x-python",
   "name": "python",
   "nbconvert_exporter": "python",
   "pygments_lexer": "ipython3",
   "version": "3.8.10"
  }
 },
 "nbformat": 4,
 "nbformat_minor": 5
}
