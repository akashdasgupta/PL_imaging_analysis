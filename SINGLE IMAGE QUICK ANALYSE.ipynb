{
 "cells": [
  {
   "cell_type": "markdown",
   "id": "8cbc876a",
   "metadata": {},
   "source": [
    "# Single image analysis\n",
    "\n",
    "For analysis of single images taken at, say, 1 sun conditions at open and short circuit for ecample"
   ]
  },
  {
   "cell_type": "code",
   "execution_count": 1,
   "id": "3c9b8130",
   "metadata": {},
   "outputs": [],
   "source": [
    "from external_imports import *\n",
    "from image_process import *\n",
    "from general_data_process import *\n",
    "import scipy.io\n",
    "\n",
    "from intensity_dependant import *\n",
    "from voltage_dependant import *\n",
    "\n",
    "# Plot parameters\n",
    "import matplotlib\n",
    "matplotlib.rcParams['font.size'] = 12\n",
    "matplotlib.rcParams['font.family'] = \"Century Gothic\""
   ]
  },
  {
   "cell_type": "markdown",
   "id": "ce15512c",
   "metadata": {},
   "source": [
    "## Pull images from intensity dependant\n",
    "* Run this if what you have intensity dependant data and you want to pull 1 sun images interpolated form that. \n",
    "* If you just took the single images yourself skip this"
   ]
  },
  {
   "cell_type": "code",
   "execution_count": null,
   "id": "3fe33553",
   "metadata": {},
   "outputs": [],
   "source": [
    "# Not finished this yet"
   ]
  },
  {
   "cell_type": "markdown",
   "id": "5699158f",
   "metadata": {},
   "source": [
    "### Core process: Finding the folders/sample names\n",
    "* Enter datapath and save path\n",
    "* You can comment out the approriate parts depending on if they are all the same bandgap"
   ]
  },
  {
   "cell_type": "code",
   "execution_count": 2,
   "id": "b8d592c7",
   "metadata": {},
   "outputs": [],
   "source": [
    "datapath = r\"E:\\Data\\EL_setup\\data_for_others\\Flo\\21-08-15-SnCl2-SnF2-fresh\"\n",
    "savepath = r\"E:\\Data\\EL_setup\\data_for_others\\Flotest\"\n",
    "if not os.path.isdir(savepath):\n",
    "    os.makedirs(savepath)\n",
    "\n",
    "path_db = path_process(datapath)\n",
    "\n",
    "bandgaps = {}\n",
    "for key in path_db.keys():\n",
    "    if key.lower() != 'white':\n",
    "#         Different bandgaps (comment/ uncomment as needed):\n",
    "        \n",
    "#         string = \"What's the bandgap of \"+key+\" in eV?: \"\n",
    "#         bandgap = float(input(string))\n",
    "#         bandgaps[key] = bandgap\n",
    "\n",
    "#         Same bandgaps (comment/ uncomment as needed):\n",
    "        bandgaps[key] = 1.25"
   ]
  },
  {
   "cell_type": "markdown",
   "id": "adba3c02",
   "metadata": {},
   "source": [
    "### Core process: PLQEs"
   ]
  },
  {
   "cell_type": "code",
   "execution_count": 3,
   "id": "982c0951",
   "metadata": {},
   "outputs": [],
   "source": [
    "whiteparamsfile = f\"{datapath}\\\\white_params.csv\"  # defines location of white ref parameter file\n",
    "\n",
    "for key in path_db.keys():\n",
    "    bandgap = bandgaps[key]\n",
    "    for pix in path_db[key]: \n",
    "        whitefilename = f\"{datapath}\\\\{key}\\\\{pix}\\\\white.npy\"\n",
    "        for _,biases,_ in os.walk(f\"{datapath}\\\\{key}\\\\{pix}\"):\n",
    "            break\n",
    "        \n",
    "        # save PLQEs for oc and sc\n",
    "        for bias in biases:\n",
    "            datapath_i = f\"{datapath}\\\\{key}\\\\{pix}\\\\{bias}\"\n",
    "            savepath_i = f\"{savepath}\\\\{key}\\\\{pix}\"\n",
    "            save_PLQE(datapath_i, savepath_i, whitefilename, whiteparamsfile, bandgap, \n",
    "                      flux1sun=1, savename=bias)"
   ]
  },
  {
   "cell_type": "markdown",
   "id": "2a61560e",
   "metadata": {},
   "source": [
    "* Plots (Change code to change scales, cmaps, etc)"
   ]
  },
  {
   "cell_type": "code",
   "execution_count": 4,
   "id": "a7b0d08b",
   "metadata": {},
   "outputs": [],
   "source": [
    "for key in path_db.keys():\n",
    "    for pix in path_db[key]:\n",
    "        for bias in biases:\n",
    "            path_i = f\"{savepath}\\\\{key}\\\\{pix}\\\\PLQE_{bias}\"\n",
    "            savepath_i = f\"{savepath}\\\\Plots\\\\PLQE\"\n",
    "            if not os.path.isdir(savepath_i):\n",
    "                os.makedirs(savepath_i)\n",
    "            filename = find_npy(path_i)[0]\n",
    "\n",
    "            savefile_name = '_'.join(filename.split('_')[:-1])+'.png'\n",
    "            num_sun = float(filename.split('_')[1])\n",
    "\n",
    "            fig, ax = plt.subplots()\n",
    "            imarr = np.load(f\"{path_i}\\\\{filename}\")\n",
    "            im = ax.imshow(imarr*100, cmap=\"inferno\", vmin=np.mean(imarr*100)-3*np.std(imarr*100),\n",
    "                                                      vmax=np.mean(imarr*100)+3*np.std(imarr*100))\n",
    "\n",
    "            ax.set_title(f'num_sun = {num_sun}')\n",
    "            cbar = plt.colorbar(im,pad=0.01,aspect=20)\n",
    "            cbar.set_label('PLQE (%)', rotation=270,labelpad=25)\n",
    "\n",
    "            scalebar_size = 0.1 # cm\n",
    "            scalebar_offset = 10 # pix\n",
    "\n",
    "            scalebar_width_pix = 0.1*pixels_per_cm\n",
    "            scalebar_height_pix = scalebar_width_pix/10\n",
    "            scalbar_y_position = imarr.shape[0]-scalebar_offset-scalebar_height_pix\n",
    "\n",
    "            text_x = scalebar_offset + scalebar_width_pix/2\n",
    "            text_y = scalbar_y_position\n",
    "\n",
    "            scalebar = patches.Rectangle((scalebar_offset,scalbar_y_position),scalebar_width_pix,scalebar_height_pix,linewidth=1,edgecolor='k',facecolor='white')\n",
    "            ax.add_patch(scalebar)\n",
    "            txt = plt.text(text_x,text_y,\"1 mm\", color = \"white\", ha='center', va='bottom', fontweight='bold')\n",
    "            txt.set_path_effects([PathEffects.withStroke(linewidth=1.2, foreground='k')])\n",
    "\n",
    "            plt.axis('off')\n",
    "\n",
    "            plt.savefig(f\"{savepath_i}\\\\{savefile_name}\", dpi=300)\n",
    "            plt.close('all')"
   ]
  },
  {
   "cell_type": "markdown",
   "id": "53784dbb",
   "metadata": {},
   "source": [
    "### QFLS\n",
    "* Produces maps of QFLS\n",
    "* Requires only an OC image"
   ]
  },
  {
   "cell_type": "code",
   "execution_count": 10,
   "id": "dc551f8e",
   "metadata": {},
   "outputs": [],
   "source": [
    "for key in path_db.keys():\n",
    "    for pix in path_db[key]:  \n",
    "        for bias in biases:\n",
    "            path_i = f\"{savepath}\\\\{key}\\\\{pix}\"\n",
    "            bandgap = bandgaps[key]\n",
    "            voc_rad0 = vocradf(bandgap)\n",
    "\n",
    "            intsweep_QFLS(path_i, voc_rad0, bias)"
   ]
  },
  {
   "cell_type": "markdown",
   "id": "9607b51a",
   "metadata": {},
   "source": [
    "* Plots:"
   ]
  },
  {
   "cell_type": "code",
   "execution_count": 17,
   "id": "369d0f7f",
   "metadata": {},
   "outputs": [],
   "source": [
    "# Run this to save the images\n",
    "for key in path_db.keys():\n",
    "    for pix in path_db[key]:\n",
    "        for bias in biases:\n",
    "            path_i = f\"{savepath}\\\\{key}\\\\{pix}\\\\QFLS_int_oc\"\n",
    "            savepath_i = f\"{savepath}\\\\Plots\\\\QFLS\"\n",
    "            if not os.path.isdir(savepath_i):\n",
    "                os.makedirs(savepath_i)\n",
    "\n",
    "            filename = find_npy(path_i)[0]\n",
    "\n",
    "            savefile_name = '_'.join(filename.split('_')[:-1])+'.png'\n",
    "            fig, ax = plt.subplots()\n",
    "\n",
    "            num_suns = float(filename.split('_')[1])\n",
    "            jbyjsc = 1-num_suns\n",
    "\n",
    "            imarr = np.load(f\"{path_i}\\\\{filename}\")\n",
    "            im = ax.imshow(imarr, cmap=\"inferno\", vmin=1.22, vmax=1.31)\n",
    "            cbar = plt.colorbar(im,pad=0.01,aspect=20)\n",
    "            cbar.set_label('V$_{oc}$ (V)', rotation=270,labelpad=25)\n",
    "\n",
    "            scalebar_size = 0.1 # cm\n",
    "            scalebar_offset = 10 # pix\n",
    "\n",
    "            scalebar_width_pix = 0.1*pixels_per_cm\n",
    "            scalebar_height_pix = scalebar_width_pix/10\n",
    "            scalbar_y_position = imarr.shape[0]-scalebar_offset-scalebar_height_pix\n",
    "\n",
    "            text_x = scalebar_offset + scalebar_width_pix/2\n",
    "            text_y = scalbar_y_position\n",
    "\n",
    "            scalebar = patches.Rectangle((scalebar_offset,scalbar_y_position),scalebar_width_pix,scalebar_height_pix,linewidth=1,edgecolor='k',facecolor='white')\n",
    "            ax.add_patch(scalebar)\n",
    "            txt = plt.text(text_x,text_y,\"1 mm\", color = \"white\", ha='center', va='bottom', fontweight='bold')\n",
    "            txt.set_path_effects([PathEffects.withStroke(linewidth=1.2, foreground='k')])\n",
    "\n",
    "            plt.axis('off')\n",
    "\n",
    "            plt.savefig(f\"{savepath_i}\\\\{savefile_name}\", dpi=300)\n",
    "            plt.close('all')\n"
   ]
  },
  {
   "cell_type": "markdown",
   "id": "d02b0487",
   "metadata": {},
   "source": [
    "### Collection efficiency\n",
    "* Plots colection efficiency :\n",
    "($\\frac{PL_{oc} - PL_{sc}}{PL_{oc}}$)\n",
    "* Draws from PLQE_oc and PLQE_sc folder, so that needs to be present"
   ]
  },
  {
   "cell_type": "code",
   "execution_count": 25,
   "id": "45ac09b4",
   "metadata": {},
   "outputs": [],
   "source": [
    "for key in path_db.keys():\n",
    "    for pix in path_db[key]:\n",
    "        for bias in biases:\n",
    "            path_i = f\"{savepath}\\\\{key}\\\\{pix}\"\n",
    "            oc_filename = find_npy(f\"{path_i}\\\\PLQE_oc\")[0]\n",
    "            sc_filename = find_npy(f\"{path_i}\\\\PLQE_sc\")[0]\n",
    "                        \n",
    "            im_oc = np.load(f\"{path_i}\\\\PLQE_oc\\\\{oc_filename}\")\n",
    "            im_sc = np.load(f\"{path_i}\\\\PLQE_sc\\\\{sc_filename}\")\n",
    "            col_eff = (im_oc - im_sc) / im_oc\n",
    "            if not os.path.isdir(f\"{path_i}\\\\col_eff\"):\n",
    "                os.makedirs(f\"{path_i}\\\\col_eff\")\n",
    "                filename = find_npy(f\"{path_i}\\\\PLQE_oc\")[0]\n",
    "            np.save(f\"{path_i}\\\\col_eff\\\\{filename}\", col_eff)\n",
    "            "
   ]
  },
  {
   "cell_type": "code",
   "execution_count": 26,
   "id": "1dadac15",
   "metadata": {},
   "outputs": [],
   "source": [
    "# Run this to save the images\n",
    "for key in path_db.keys():\n",
    "    for pix in path_db[key]:\n",
    "        for bias in biases:\n",
    "            path_i = f\"{savepath}\\\\{key}\\\\{pix}\\\\col_eff\"\n",
    "            savepath_i = f\"{savepath}\\\\Plots\\\\col_eff\"\n",
    "            if not os.path.isdir(savepath_i):\n",
    "                os.makedirs(savepath_i)\n",
    "\n",
    "            filename = find_npy(path_i)[0]\n",
    "\n",
    "            savefile_name = '_'.join(filename.split('_')[:-1])+'.png'\n",
    "            fig, ax = plt.subplots()\n",
    "\n",
    "            num_suns = float(filename.split('_')[1])\n",
    "            jbyjsc = 1-num_suns\n",
    "\n",
    "            imarr = np.load(f\"{path_i}\\\\{filename}\")\n",
    "            im = ax.imshow(imarr*100, cmap=\"inferno\", vmin=0, vmax=100)\n",
    "            cbar = plt.colorbar(im,pad=0.01,aspect=20)\n",
    "            cbar.set_label('Collection efficiency (%)', rotation=270,labelpad=25)\n",
    "\n",
    "            scalebar_size = 0.1 # cm\n",
    "            scalebar_offset = 10 # pix\n",
    "\n",
    "            scalebar_width_pix = 0.1*pixels_per_cm\n",
    "            scalebar_height_pix = scalebar_width_pix/10\n",
    "            scalbar_y_position = imarr.shape[0]-scalebar_offset-scalebar_height_pix\n",
    "\n",
    "            text_x = scalebar_offset + scalebar_width_pix/2\n",
    "            text_y = scalbar_y_position\n",
    "\n",
    "            scalebar = patches.Rectangle((scalebar_offset,scalbar_y_position),scalebar_width_pix,scalebar_height_pix,linewidth=1,edgecolor='k',facecolor='white')\n",
    "            ax.add_patch(scalebar)\n",
    "            txt = plt.text(text_x,text_y,\"1 mm\", color = \"white\", ha='center', va='bottom', fontweight='bold')\n",
    "            txt.set_path_effects([PathEffects.withStroke(linewidth=1.2, foreground='k')])\n",
    "\n",
    "            plt.axis('off')\n",
    "\n",
    "            plt.savefig(f\"{savepath_i}\\\\{savefile_name}\", dpi=300)\n",
    "            plt.close('all')\n"
   ]
  }
 ],
 "metadata": {
  "kernelspec": {
   "display_name": "Python 3",
   "language": "python",
   "name": "python3"
  },
  "language_info": {
   "codemirror_mode": {
    "name": "ipython",
    "version": 3
   },
   "file_extension": ".py",
   "mimetype": "text/x-python",
   "name": "python",
   "nbconvert_exporter": "python",
   "pygments_lexer": "ipython3",
   "version": "3.8.10"
  }
 },
 "nbformat": 4,
 "nbformat_minor": 5
}
